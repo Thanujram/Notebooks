{
  "cells": [
    {
      "cell_type": "markdown",
      "metadata": {
        "id": "view-in-github",
        "colab_type": "text"
      },
      "source": [
        "<a href=\"https://colab.research.google.com/github/Thanujram/Notebooks/blob/main/Tutorial_1.ipynb\" target=\"_parent\"><img src=\"https://colab.research.google.com/assets/colab-badge.svg\" alt=\"Open In Colab\"/></a>"
      ]
    },
    {
      "cell_type": "code",
      "execution_count": null,
      "metadata": {
        "id": "I08Mr67v58gW"
      },
      "outputs": [],
      "source": [
        "# start of the tutorial"
      ]
    },
    {
      "cell_type": "markdown",
      "metadata": {
        "id": "VnhyDy1j9JgD"
      },
      "source": [
        "No need to add Variable name infront of the variable<br>\n",
        "Do not decalre the datatype while initialising"
      ]
    },
    {
      "cell_type": "code",
      "execution_count": null,
      "metadata": {
        "colab": {
          "background_save": true,
          "base_uri": "https://localhost:8080/"
        },
        "id": "g_95wP-M9I9w",
        "outputId": "ce54befb-f976-425b-a4f9-81fb0cb68848"
      },
      "outputs": [
        {
          "name": "stdout",
          "output_type": "stream",
          "text": [
            "<class 'int'>\n",
            "<class 'str'>\n",
            "<class 'bool'>\n",
            "<class 'list'>\n"
          ]
        }
      ],
      "source": [
        "x = 12\n",
        "print(type(x))\n",
        "\n",
        "name = \"Thanuj\"\n",
        "print(type(name))\n",
        "\n",
        "flag = True\n",
        "print(type(flag))\n",
        "\n",
        "cars = [\"Prius\",\"Aqua\",\"FIT\"]\n",
        "print(type(cars))"
      ]
    }
  ],
  "metadata": {
    "colab": {
      "provenance": [],
      "authorship_tag": "ABX9TyPvb4hAgHp9J1Yb1I7PZ7uP",
      "include_colab_link": true
    },
    "kernelspec": {
      "display_name": "Python 3",
      "name": "python3"
    },
    "language_info": {
      "name": "python"
    }
  },
  "nbformat": 4,
  "nbformat_minor": 0
}